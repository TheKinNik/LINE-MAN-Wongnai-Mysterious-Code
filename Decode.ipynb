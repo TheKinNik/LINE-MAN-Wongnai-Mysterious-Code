import base64
secret = "aWFuZ25vVzpOQU06RU5JTDp0YTpzdTpuaW9K";
decode = base64.b64decode(secret)[::-1]
print(decode)
